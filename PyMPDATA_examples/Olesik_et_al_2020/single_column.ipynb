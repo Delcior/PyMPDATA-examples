{
 "cells": [
  {
   "cell_type": "code",
   "execution_count": 57,
   "metadata": {},
   "outputs": [],
   "source": [
    "import numpy as np\n",
    "from pystrict import strict\n",
    "from scipy.interpolate import interp1d\n",
    "from scipy.integrate import solve_ivp\n",
    "from scipy import constants\n",
    "from PyMPDATA import (Solver, Stepper, Options, ScalarField, VectorField,\n",
    "                      ExtrapolatedBoundaryCondition, ConstantBoundaryCondition)\n",
    "from matplotlib import pyplot\n",
    "from PyMPDATA_examples.utils.show_plot import show_plot"
   ]
  },
  {
   "cell_type": "code",
   "execution_count": 2,
   "metadata": {},
   "outputs": [],
   "source": [
    "class arakawa_c:    \n",
    "    def z_scalar_coord(grid):\n",
    "        zZ = np.linspace(1/2, grid[-1]-1/2, grid[-1])\n",
    "        return zZ"
   ]
  },
  {
   "cell_type": "code",
   "execution_count": 82,
   "metadata": {},
   "outputs": [],
   "source": [
    "class MPDATA_1D:\n",
    "    def __init__(self, nz, dt, advector_of_t, advectee_of_zZ_at_t0, g_factor_of_zZ, mpdata_settings):\n",
    "        self.t = 0\n",
    "        self.dt = dt\n",
    "        self.advector_of_t = advector_of_t\n",
    "\n",
    "        grid = (nz,)\n",
    "        options = Options(\n",
    "            n_iters=mpdata_settings['n_iters'],\n",
    "            infinite_gauge=mpdata_settings['iga'],\n",
    "            flux_corrected_transport=mpdata_settings['fct'],\n",
    "            third_order_terms=mpdata_settings['tot']\n",
    "        )\n",
    "        stepper = Stepper(options=options, grid=grid, non_unit_g_factor=True)\n",
    "        g_factor = ScalarField(\n",
    "            data=g_factor_of_zZ(arakawa_c.z_scalar_coord(grid)),\n",
    "            halo=options.n_halo,\n",
    "            boundary_conditions=(ExtrapolatedBoundaryCondition(),)\n",
    "        )\n",
    "        advector = VectorField(\n",
    "            data=(np.full(nz+1, advector_of_t(0)),),\n",
    "            halo=options.n_halo,\n",
    "            boundary_conditions=(ExtrapolatedBoundaryCondition(),)\n",
    "        )\n",
    "        data = advectee_of_zZ_at_t0(arakawa_c.z_scalar_coord(grid))\n",
    "        self.advectee = ScalarField(\n",
    "            data=data,\n",
    "            halo=options.n_halo,\n",
    "            boundary_conditions=(ConstantBoundaryCondition(data[0]),)\n",
    "        )\n",
    "        self.solver = Solver(stepper=stepper, advectee=self.advectee, advector=advector, g_factor=g_factor)\n",
    "\n",
    "    def __call__(self):\n",
    "        self.t += .5 * self.dt\n",
    "        self.solver.advector.get_component(0)[:] = self.advector_of_t(self.t)\n",
    "        self.solver.advance(1)\n",
    "        self.t += .5 * self.dt\n"
   ]
  },
  {
   "cell_type": "code",
   "execution_count": 83,
   "metadata": {},
   "outputs": [],
   "source": [
    "def convert_to(value, unit):\n",
    "    value /= unit\n",
    "\n",
    "class si:\n",
    "    metres = 1\n",
    "    m = 1\n",
    "    s = 1\n",
    "    hPa = 100\n",
    "    minutes = 60\n",
    "    km = 1000\n",
    "    \n",
    "class const:\n",
    "    Mv = 0.018015\n",
    "    Md = 0.028970\n",
    "    eps = Mv / Md\n",
    "    g = constants.g\n",
    "    R_str = constants.R\n",
    "    p1000 = 1000 * si.hPa\n",
    "    Rd = 287.0027\n",
    "    Rv = R_str / Mv\n",
    "    c_pd = 1005\n",
    "    c_pv = 1850\n",
    "    lv = 2.5e6"
   ]
  },
  {
   "cell_type": "code",
   "execution_count": 84,
   "metadata": {},
   "outputs": [],
   "source": [
    "class Formulae:\n",
    "    @staticmethod\n",
    "    def rho_d(p, qv, theta_std):\n",
    "        return p * (1 - 1 / (1 + const.eps / qv)) / (np.power(p / const.p1000, const.Rd / const.c_pd) * const.Rd * theta_std)\n",
    "    \n",
    "    @staticmethod\n",
    "    def drho_dz(g, p, T, qv, lv, dql_dz=0):\n",
    "        Rq = const.Rv / (1 / qv + 1) + const.Rd / (1 + qv)\n",
    "        cp = const.c_pv / (1 / qv + 1) + const.c_pd / (1 + qv)\n",
    "        rho = p / Rq / T\n",
    "        return (g / T * rho * (Rq / cp - 1) - p * lv / cp / T**2 * dql_dz) / Rq\n",
    "    \n",
    "    # A14 in libcloudph++ 1.0 paper\n",
    "    @staticmethod\n",
    "    def T(rhod, thd):\n",
    "        return thd * np.power(rhod * thd / const.p1000 * const.Rd, const.Rd / const.c_pd / (1 - const.Rd / const.c_pd))\n",
    "\n",
    "    # A15 in libcloudph++ 1.0 paper\n",
    "    @staticmethod\n",
    "    def p(rhod, T, qv):\n",
    "        return rhod * (1 + qv) * (const.Rv / (1 / qv + 1) + const.Rd / (1 + qv)) * T\n",
    "    \n",
    "    @staticmethod\n",
    "    def th_dry(th_std, qv):\n",
    "        return th_std * np.power(1 + qv / const.eps, const.Rd / const.c_pd)\n"
   ]
  },
  {
   "cell_type": "code",
   "execution_count": 85,
   "metadata": {},
   "outputs": [],
   "source": [
    "@strict\n",
    "class Settings:\n",
    "    def __init__(self, w_1: float):\n",
    "        self.z_max = 3000 * si.metres\n",
    "        self.t_max = 60 * si.minutes\n",
    "\n",
    "        self.dz = 25*si.m\n",
    "        self.dt = 1*si.s\n",
    "        self.mpdata_settings = {'n_iters': 3, 'iga': True, 'fct': True, 'tot': True}\n",
    "        self.qv = interp1d((0, 740, 3260), (.015, .0138, .0024))  \n",
    "        self._th = interp1d((0, 740, 3260), (297.9, 297.9, 312.66))\n",
    "        p0 = 975 * si.hPa  # note: not in the paper?\n",
    "        self.rhod0 = Formulae.rho_d(p0, self.qv(0), self._th(0))\n",
    "        self.thd = lambda z: Formulae.th_dry(self._th(z), self.qv(z))\n",
    "\n",
    "        \n",
    "        def drhod_dz(z, rhod):\n",
    "            T = Formulae.T(rhod[0], self.thd(z))\n",
    "            p = Formulae.p(rhod[0], T, self.qv(z))\n",
    "            return Formulae.drho_dz(const.g, p, T, self.qv(z), const.lv)\n",
    "\n",
    "        z_points = np.arange(0, self.z_max, self.dz / 2)\n",
    "        rhod_solution = solve_ivp(\n",
    "            fun=drhod_dz,\n",
    "            t_span=(0, self.z_max),\n",
    "            y0=np.asarray((self.rhod0,)),\n",
    "            t_eval=z_points\n",
    "        )\n",
    "        assert rhod_solution.success\n",
    "        \n",
    "        self.rhod = interp1d(z_points, rhod_solution.y[0])\n",
    "    \n",
    "        t_1 = 600 * si.s\n",
    "        self.w = lambda t: w_1 * np.sin(np.pi * t/t_1) if t < t_1 else 0\n",
    "\n",
    "    \n",
    "    @property\n",
    "    def nz(self):\n",
    "        nz = self.z_max / self.dz\n",
    "        assert nz == int(nz)\n",
    "        return int(nz)\n",
    "    \n",
    "    @property\n",
    "    def nt(self):\n",
    "        nt = self.t_max / self.dt\n",
    "        assert nt == int(nt)\n",
    "        return int(nt)\n"
   ]
  },
  {
   "cell_type": "code",
   "execution_count": 86,
   "metadata": {},
   "outputs": [],
   "source": [
    "def plot(var, qlabel, fname, output):\n",
    "    dt = output['t'][1] - output['t'][0]\n",
    "    dz = output['z'][1] - output['z'][0]\n",
    "    tgrid = np.concatenate(((output['t'][0] - dt / 2,), output['t'] + dt / 2))\n",
    "    zgrid = np.concatenate(((output['z'][0] - dz / 2,), output['z'] + dz / 2))\n",
    "    convert_to(zgrid, si.km)\n",
    "\n",
    "    fig = pyplot.figure(constrained_layout=True)\n",
    "    gs = fig.add_gridspec(25, 5)\n",
    "    ax1 = fig.add_subplot(gs[:-1, 0:4])\n",
    "    mesh = ax1.pcolormesh(tgrid, zgrid, output[var], cmap='twilight')\n",
    "\n",
    "    ax1.set_xlabel('time [s]')\n",
    "    ax1.set_ylabel('z [km]')\n",
    "\n",
    "    cbar = fig.colorbar(mesh, fraction=.05, location='top')\n",
    "    cbar.set_label(qlabel)\n",
    "\n",
    "    ax2 = fig.add_subplot(gs[:-1, 4:], sharey=ax1)\n",
    "    ax2.set_xlabel(qlabel)\n",
    "    #ax2.set_yticks([], minor=False)\n",
    "\n",
    "    last_t = 0\n",
    "    for i, t in enumerate(output['t']):\n",
    "        x, z = output[var][:, i], output['z'].copy()\n",
    "        convert_to(z, si.km)\n",
    "        params = {'color': 'black'}\n",
    "        for line_t, line_s in {10: ':', 15: '--', 20: '-', 25: '-.'}.items():\n",
    "            if last_t < line_t * si.minutes <= t:\n",
    "                params['ls'] = line_s\n",
    "                ax2.plot(x, z, **params)\n",
    "                ax1.axvline(t, **params)\n",
    "        last_t = t\n",
    "\n",
    "    show_plot(filename=fname)\n"
   ]
  },
  {
   "cell_type": "code",
   "execution_count": null,
   "metadata": {},
   "outputs": [],
   "source": []
  },
  {
   "cell_type": "code",
   "execution_count": 87,
   "metadata": {},
   "outputs": [
    {
     "data": {
      "text/plain": [
       "(3600, 120)"
      ]
     },
     "execution_count": 87,
     "metadata": {},
     "output_type": "execute_result"
    }
   ],
   "source": [
    "settings.nt, settings.nz"
   ]
  },
  {
   "cell_type": "code",
   "execution_count": 88,
   "metadata": {},
   "outputs": [],
   "source": [
    "outputs = {}\n",
    "for w in (2*si.m/si.s, 3*si.m/si.s):\n",
    "    settings = Settings(w_1=w)\n",
    "    \n",
    "    mpdata = MPDATA_1D(nz=settings.nz, dt=settings.dt, mpdata_settings=settings.mpdata_settings,\n",
    "                   advector_of_t=lambda t: settings.w(t) * settings.dt / settings.dz,\n",
    "                   advectee_of_zZ_at_t0=lambda zZ: settings.qv(zZ*settings.dz),\n",
    "                   g_factor_of_zZ=lambda zZ: settings.rhod(zZ*settings.dz))\n",
    "    \n",
    "    output = {k: np.zeros((settings.nz, settings.nt+1)) for k in ('psi',)}\n",
    "    assert 't' not in output and 'z' not in output\n",
    "    output['t'] = np.linspace(0, settings.nt*settings.dt, settings.nt+1, endpoint=True)\n",
    "    output['z'] = np.linspace(settings.dz/2, (settings.nz-1/2)*settings.dz, settings.nz, endpoint=True)\n",
    "    \n",
    "    output['psi'][:,0] = mpdata.advectee.get()\n",
    "    for t in range(settings.nt):\n",
    "        mpdata()\n",
    "        output['psi'][:,t+1] = mpdata.advectee.get()\n",
    "\n",
    "    key = f\"w={w}\"\n",
    "    outputs[key] = output"
   ]
  },
  {
   "cell_type": "code",
   "execution_count": 89,
   "metadata": {},
   "outputs": [
    {
     "data": {
      "image/png": "[encoded data removed]",
      "text/plain": [
       "<Figure size 432x288 with 8 Axes>"
      ]
     },
     "metadata": {
      "needs_background": "light"
     },
     "output_type": "display_data"
    },
    {
     "data": {
      "application/vnd.jupyter.widget-view+json": {
       "model_id": "b94dccebb38c4ce4949d5cccddcf6c14",
       "version_major": 2,
       "version_minor": 0
      },
      "text/plain": [
       "HTML(value=\"<a href='./qv_w=2.pdf' target='_blank'>./qv_w=2.pdf</a><br>\")"
      ]
     },
     "metadata": {},
     "output_type": "display_data"
    },
    {
     "data": {
      "image/png": "[encoded data removed]",
      "text/plain": [
       "<Figure size 432x288 with 8 Axes>"
      ]
     },
     "metadata": {
      "needs_background": "light"
     },
     "output_type": "display_data"
    },
    {
     "data": {
      "application/vnd.jupyter.widget-view+json": {
       "model_id": "e30654df14a34ce9851c1d145e482e9c",
       "version_major": 2,
       "version_minor": 0
      },
      "text/plain": [
       "HTML(value=\"<a href='./qv_w=3.pdf' target='_blank'>./qv_w=3.pdf</a><br>\")"
      ]
     },
     "metadata": {},
     "output_type": "display_data"
    }
   ],
   "source": [
    "for w in (2, 3):\n",
    "    plot(var='psi', qlabel='$q_v$ [g/kg]', fname=f'qv_w={w}.pdf', output=outputs[f'w={w}.0'])"
   ]
  },
  {
   "cell_type": "code",
   "execution_count": null,
   "metadata": {},
   "outputs": [],
   "source": []
  }
 ],
 "metadata": {
  "kernelspec": {
   "display_name": "Python 3",
   "language": "python",
   "name": "python3"
  },
  "language_info": {
   "codemirror_mode": {
    "name": "ipython",
    "version": 3
   },
   "file_extension": ".py",
   "mimetype": "text/x-python",
   "name": "python",
   "nbconvert_exporter": "python",
   "pygments_lexer": "ipython3",
   "version": "3.8.7"
  }
 },
 "nbformat": 4,
 "nbformat_minor": 1
}
